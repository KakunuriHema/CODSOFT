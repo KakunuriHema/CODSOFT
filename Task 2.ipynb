{
 "cells": [
  {
   "cell_type": "code",
   "execution_count": 2,
   "id": "a7f7303a-d422-4ef1-a622-795f4fce4cb8",
   "metadata": {},
   "outputs": [
    {
     "name": "stdin",
     "output_type": "stream",
     "text": [
      "Enter the first number:  7\n",
      "Enter the second number:  3\n"
     ]
    },
    {
     "name": "stdout",
     "output_type": "stream",
     "text": [
      "Choose an operation: +, -, *, /\n"
     ]
    },
    {
     "name": "stdin",
     "output_type": "stream",
     "text": [
      "Enter operation:  +\n"
     ]
    },
    {
     "name": "stdout",
     "output_type": "stream",
     "text": [
      "Result: 10.0\n"
     ]
    }
   ],
   "source": [
    "# Simple Calculator in Python\n",
    "\n",
    "num1 = float(input(\"Enter the first number: \"))\n",
    "num2 = float(input(\"Enter the second number: \"))\n",
    "\n",
    "# Prompt user to choose an operation\n",
    "print(\"Choose an operation: +, -, *, /\")\n",
    "operation = input(\"Enter operation: \")\n",
    "\n",
    "# Perform calculation\n",
    "if operation == \"+\":\n",
    "    print(\"Result:\",num1 + num2)\n",
    "elif operation == \"-\":\n",
    "    print(\"Result:\",num1 - num2)\n",
    "elif operation == \"*\":\n",
    "     print(\"Result:\",num1 * num2)\n",
    "elif operation == \"/\":\n",
    "    if num2 != 0:\n",
    "        print(\"Result:\",num1 / num2)\n",
    "    else:\n",
    "        print(\"A number can`t divisible by zero\")\n",
    "else:\n",
    "    print(\"Choose correct operation\")"
   ]
  },
  {
   "cell_type": "code",
   "execution_count": null,
   "id": "89894d4c-8003-4098-85df-7884cab86933",
   "metadata": {},
   "outputs": [],
   "source": []
  }
 ],
 "metadata": {
  "kernelspec": {
   "display_name": "Python 3 (ipykernel)",
   "language": "python",
   "name": "python3"
  },
  "language_info": {
   "codemirror_mode": {
    "name": "ipython",
    "version": 3
   },
   "file_extension": ".py",
   "mimetype": "text/x-python",
   "name": "python",
   "nbconvert_exporter": "python",
   "pygments_lexer": "ipython3",
   "version": "3.13.5"
  }
 },
 "nbformat": 4,
 "nbformat_minor": 5
}
